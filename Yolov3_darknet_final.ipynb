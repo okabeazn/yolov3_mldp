{
  "nbformat": 4,
  "nbformat_minor": 0,
  "metadata": {
    "accelerator": "GPU",
    "colab": {
      "name": "Yolov3_darknet_final",
      "private_outputs": true,
      "provenance": [],
      "collapsed_sections": [],
      "toc_visible": true,
      "machine_shape": "hm",
      "include_colab_link": true
    },
    "kernelspec": {
      "display_name": "Python 3",
      "name": "python3"
    }
  },
  "cells": [
    {
      "cell_type": "markdown",
      "metadata": {
        "id": "view-in-github",
        "colab_type": "text"
      },
      "source": [
        "<a href=\"https://colab.research.google.com/github/okabeazn/yolov3_mldp/blob/master/Yolov3_darknet_final.ipynb\" target=\"_parent\"><img src=\"https://colab.research.google.com/assets/colab-badge.svg\" alt=\"Open In Colab\"/></a>"
      ]
    },
    {
      "cell_type": "markdown",
      "metadata": {
        "id": "BH13lOicGvHD"
      },
      "source": [
        "Santiago Blandon"
      ]
    },
    {
      "cell_type": "code",
      "metadata": {
        "id": "CW0EVcUhbk85"
      },
      "source": [
        "from google.colab import drive\n",
        "import os\n",
        "import glob\n",
        "import pandas as pd\n",
        "from sklearn.model_selection import train_test_split\n",
        "import cv2\n",
        "import numpy as np\n",
        "import tensorflow as tf\n",
        "from matplotlib import pyplot as plt\n",
        "from google.colab import files"
      ],
      "execution_count": null,
      "outputs": []
    },
    {
      "cell_type": "markdown",
      "metadata": {
        "id": "hLq9uyajGrMj"
      },
      "source": [
        "https://drive.google.com/drive/folders/1L9gsiNBRhUaVNbDl7S5r6alpDumhUirA?usp=sharing\r\n",
        "https://github.com/okabeazn/yolov3_mldp"
      ]
    },
    {
      "cell_type": "code",
      "metadata": {
        "id": "v7PxzxOQjDvs"
      },
      "source": [
        "#Montando unidad de Drive\r\n",
        "drive.mount('/content/drive', force_remount=True)\r\n"
      ],
      "execution_count": null,
      "outputs": []
    },
    {
      "cell_type": "code",
      "metadata": {
        "id": "HayEMXv9wl1c"
      },
      "source": [
        "#obteniendo el dataset desde gdrive y pesos iniciales desde github\r\n",
        "!wget https://github.com/okabeazn/yolov3_mldp/raw/master/DATASET5/final_enblanco.7z\r\n",
        "!mkdir /content/DATASET5/\r\n",
        "!mkdir /content/DATASET5/images\r\n",
        "!7z e  /content/final_enblanco.7z -o/content/DATASET5/images/\r\n",
        "!wget https://github.com/okabeazn/yolov3_mldp/raw/master/DATASET5/classes.names -P /content/DATASET5/\r\n",
        "!wget https://github.com/okabeazn/yolov3_mldp/raw/master/DATASET5/yolov3.cfg -P /content/DATASET5/\r\n",
        "!wget https://github.com/okabeazn/yolov3_mldp/raw/master/pesos/darknet53.conv.74\r\n",
        "!wget https://github.com/okabeazn/yolov3_mldp/raw/master/pesos/yolov3.cfg \r\n",
        "!wget https://github.com/okabeazn/yolov3_mldp/raw/master/pesos/yolov3.weights"
      ],
      "execution_count": null,
      "outputs": []
    },
    {
      "cell_type": "code",
      "metadata": {
        "id": "mlmPdowrisNj"
      },
      "source": [
        "#obteniendo el dataset desde gdrive y pesos iniciales desde gdrive\r\n",
        "# !cp -r '/content/drive/My Drive/MLPD/Proyecto/DATASET5/' '/content/'\r\n",
        "# !mkdir /content/DATASET5/images\r\n",
        "# !7z e  /content/DATASET5/final_enblanco.7z -o/content/DATASET5/images/\r\n",
        "# !cp -r '/content/drive/My Drive/MLPD/Proyecto/PESOS/.' '/content/'"
      ],
      "execution_count": null,
      "outputs": []
    },
    {
      "cell_type": "code",
      "metadata": {
        "id": "9B-FMzBjCcqy"
      },
      "source": [
        "#Permite crear la carpeta en Gdrive \r\n",
        "# !mkdir /content/drive/MyDrive/MLPD/Proyecto/RESULTADOS/App_ban_avo_car_whi_D5_SPI"
      ],
      "execution_count": null,
      "outputs": []
    },
    {
      "cell_type": "code",
      "metadata": {
        "id": "4yKN2pDFUqaM"
      },
      "source": [
        "#Eliminar dataset en caso de ser necesario\r\n",
        "# !rm -rf  /content/DATASET5/"
      ],
      "execution_count": null,
      "outputs": []
    },
    {
      "cell_type": "code",
      "metadata": {
        "id": "yx_A6lggbhLj"
      },
      "source": [
        "#Imstalacion de YOLO\n",
        "!git clone https://github.com/TheCaffeineDev/YoloV3-Custom-Object-Detection.git  # master branch (default)\n",
        "!pip3 install -r /content/YoloV3-Custom-Object-Detection/requirements.txt\n"
      ],
      "execution_count": null,
      "outputs": []
    },
    {
      "cell_type": "markdown",
      "metadata": {
        "id": "7qmGBo_N0qVW"
      },
      "source": [
        "#Obteniendo Archivos Train, Valid y Trainer.data (si ya existe)"
      ]
    },
    {
      "cell_type": "code",
      "metadata": {
        "id": "bZItMvydheB0"
      },
      "source": [
        "# #obteniendo los archivos de train valid y trainer desde gdrive\r\n",
        "# !cp /content/drive/MyDrive/MLPD/Proyecto/RESULTADOS/App_ban_avo_car_whi_D5/train.txt /content/DATASET5/\r\n",
        "# !cp /content/drive/MyDrive/MLPD/Proyecto/RESULTADOS/App_ban_avo_car_whi_D5/valid.txt /content/DATASET5/\r\n",
        "# !cp /content/drive/MyDrive/MLPD/Proyecto/RESULTADOS/App_ban_avo_car_whi_D5/trainer.data /content/DATASET5/"
      ],
      "execution_count": null,
      "outputs": []
    },
    {
      "cell_type": "code",
      "metadata": {
        "id": "3DDaaM8A0NUl"
      },
      "source": [
        "# #obteniendo los archivos de train valid y trainer desde Github\r\n",
        "!wget https://github.com/okabeazn/yolov3_mldp/raw/master/RESULTADOS/App_ban_avo_car_whi_D5_SPI/train.txt -P /content/DATASET5/\r\n",
        "!wget https://github.com/okabeazn/yolov3_mldp/raw/master/RESULTADOS/App_ban_avo_car_whi_D5_SPI/valid.txt -P /content/DATASET5/\r\n",
        "!wget https://github.com/okabeazn/yolov3_mldp/raw/master/RESULTADOS/App_ban_avo_car_whi_D5_SPI/trainer.data -P /content/DATASET5/"
      ],
      "execution_count": null,
      "outputs": []
    },
    {
      "cell_type": "markdown",
      "metadata": {
        "id": "imLe-hOB0yT4"
      },
      "source": [
        "#Creando Archivos Train, Valid y Trainer.data"
      ]
    },
    {
      "cell_type": "code",
      "metadata": {
        "id": "fN0IAfWirGdf"
      },
      "source": [
        "# #Division del dataset\n",
        "# data_path = \"/content/DATASET5/images\"\n",
        "# data_dir_list = os.listdir(data_path)\n",
        "# img_data_list=[]\n",
        "# num_images=0\n",
        "# for image_file in data_dir_list:\n",
        "#   if image_file.endswith(\".png\") or image_file.endswith(\".jpg\"):\n",
        "#     img_data_list.append('/content/DATASET5/images/'+image_file)\n",
        "# dataset_df = pd.DataFrame(img_data_list)\n",
        "# dataset_df.tail()\n",
        "# #Exportando los archivos generados train y vaklid\n",
        "# train_df, valid_df = train_test_split(\n",
        "#   dataset_df, \n",
        "#   test_size=0.3, \n",
        "#   random_state=2\n",
        "# )\n",
        "\n",
        "# print(train_df.size, valid_df.size)\n",
        "# train_df.to_csv('/content/DATASET5/train.txt', index=False, header=None)\n",
        "# valid_df.to_csv('/content/DATASET5/valid.txt', index=False, header=None)\n",
        "\n",
        "\n",
        "# file = open(\"/content/DATASET5/trainer.data\", \"w\") \n",
        "# file.write(\"classes=4\"+'\\n'+\n",
        "#           \"train=/content/DATASET5/train.txt\"+'\\n'+\n",
        "#           \"test=/content/DATASET5/valid.txt\"+'\\n'+\n",
        "#           \"names=/content/DATASET5/classes.names\"+'\\n'+\n",
        "#           \"backup=/content/drive/MyDrive/MLPD/Proyecto/RESULTADOS/App_ban_avo_car_whi_D5_SPI/\"\n",
        "#           ) \n",
        "# file.close() "
      ],
      "execution_count": null,
      "outputs": []
    },
    {
      "cell_type": "code",
      "metadata": {
        "id": "ww_TEn_hC5sA"
      },
      "source": [
        "# #exportar los archivos generados gdrive\r\n",
        "# !cp /content/DATASET5/train.txt /content/drive/MyDrive/MLPD/Proyecto/RESULTADOS/App_ban_avo_car_whi_D5/\r\n",
        "# !cp /content/DATASET5/valid.txt /content/drive/MyDrive/MLPD/Proyecto/RESULTADOS/App_ban_avo_car_whi_D5/\r\n",
        "# !cp /content/DATASET5/trainer.data /content/drive/MyDrive/MLPD/Proyecto/RESULTADOS/App_ban_avo_car_whi_D5_SPI/"
      ],
      "execution_count": null,
      "outputs": []
    },
    {
      "cell_type": "markdown",
      "metadata": {
        "id": "zgnZjofm1d1Q"
      },
      "source": [
        "#Instalando Prerequisitos"
      ]
    },
    {
      "cell_type": "code",
      "metadata": {
        "id": "CxiQrN33srJu"
      },
      "source": [
        "!apt-get update\n",
        "!apt-get upgrade\n",
        "\n",
        "!apt-get install build-essential\n",
        "!apt-get install cmake git libgtk2.0-dev pkg-config libavcodec-dev libavformat-dev libswscale-dev\n",
        "\n",
        "!apt-get install libavcodec-dev libavformat-dev libswscale-d\n",
        "!apt-get -y install cmake\n",
        "!which cmake\n",
        "!cmake --version\n",
        "\n",
        "!apt-get install libopencv-dev\n",
        "!apt-get install vim\n",
        "\n",
        "!apt install g++-5\n",
        "!apt install gcc-5\n",
        "!update-alternatives --install /usr/bin/gcc gcc /usr/bin/gcc-5 10\n",
        "!update-alternatives --install /usr/bin/gcc gcc /usr/bin/gcc-5 20\n",
        "!update-alternatives --install /usr/bin/g++ g++ /usr/bin/g++-5 10\n",
        "!update-alternatives --install /usr/bin/g++ g++ /usr/bin/g++-5 20\n",
        "!update-alternatives --install /usr/bin/cc cc /usr/bin/gcc 30\n",
        "!update-alternatives --set cc /usr/bin/gcc\n",
        "!update-alternatives --install /usr/bin/c++ c++ /usr/bin/g++ 30\n",
        "!update-alternatives --set c++ /usr/bin/g++"
      ],
      "execution_count": null,
      "outputs": []
    },
    {
      "cell_type": "code",
      "metadata": {
        "id": "nRhn7jGYolyv"
      },
      "source": [
        "#Instalacion de CUDA\r\n",
        "#Now, here's a bunch of code that takes the longest to execute here but\r\n",
        "#It's about installing CUDA and using the beautiful Tesla K80 GPU, so that\r\n",
        "#Will worth it\r\n",
        "!apt update -qq;\r\n",
        "!wget https://developer.nvidia.com/compute/cuda/8.0/Prod2/local_installers/cuda-repo-ubuntu1604-8-0-local-ga2_8.0.61-1_amd64-deb\r\n",
        "!dpkg -i cuda-repo-ubuntu1604-8-0-local-ga2_8.0.61-1_amd64-deb\r\n",
        "!apt-get update -qq\r\n",
        "#Here were are installing compilers and creating some links\r\n",
        "!apt-get install cuda -y -qq #gcc-5 g++-5 \r\n",
        "#!ln -s /usr/bin/gcc-5 /usr/local/cuda/bin/gcc\r\n",
        "#!ln -s /usr/bin/g++-5 /usr/local/cuda/bin/g++\r\n",
        "!apt update\r\n",
        "!apt upgrade\r\n",
        "!apt install cuda-8.0 -y"
      ],
      "execution_count": null,
      "outputs": []
    },
    {
      "cell_type": "code",
      "metadata": {
        "id": "K-dDeV5ctoNv"
      },
      "source": [
        "#Now let's see whether the GPU is here and CUDA was successfully installed!\n",
        "device_name = tf.test.gpu_device_name()\n",
        "print(device_name)\n",
        "print(\"'sup!'\")\n",
        "!/usr/local/cuda/bin/nvcc --version"
      ],
      "execution_count": null,
      "outputs": []
    },
    {
      "cell_type": "code",
      "metadata": {
        "id": "RGsxcAMnpIa_"
      },
      "source": [
        "#Instalando DarkNet\n",
        "# !sed -i 's/OPENCV=0/OPENCV=1/g' Makefile\n",
        "# !sed -i 's/CUDNN=0/CUDNN=1/g' Makefile\n",
        "!ls\n",
        "!cd /content\n",
        "!rm -fr darknet\n",
        "!git clone https://github.com/AlexeyAB/darknet/\n",
        "% cd darknet\n",
        "!sed -i 's/OPENCV=0/OPENCV=1/g' Makefile\n",
        "!sed -i 's/GPU=0/GPU=1/g' Makefile\n",
        "!sed -i 's/CUDNN=0/CUDNN=1/g' Makefile\n",
        "!apt update\n",
        "!apt-get install libopencv-dev \n",
        "!make"
      ],
      "execution_count": null,
      "outputs": []
    },
    {
      "cell_type": "code",
      "metadata": {
        "id": "sSGqzA8svCZj"
      },
      "source": [
        "#Verificando que darknet haya quedo bien compilado\r\n",
        "!./darknet"
      ],
      "execution_count": null,
      "outputs": []
    },
    {
      "cell_type": "code",
      "metadata": {
        "id": "ehmXhbKhpqZk"
      },
      "source": [
        "#Obteniendo los pesos y los otros datos desde el repositorio oficial\r\n",
        "# !wget https://pjreddie.com/media/files/yolov3-tiny.weights\r\n",
        "# !wget https://github.com/pjreddie/darknet/blob/master/cfg/yolov3-tiny.cfg\r\n",
        "# !wget https://github.com/GotG/yolotinyv3_medmask_demo/raw/master/yolov3-tiny_obj.cfg\r\n",
        "# !wget https://github.com/AlexeyAB/darknet/raw/0039fd26786ab5f71d5af725fc18b3f521e7acfd/cfg/yolov3.cfg\r\n",
        "# !wget https://pjreddie.com/media/files/darknet53.conv.74"
      ],
      "execution_count": null,
      "outputs": []
    },
    {
      "cell_type": "markdown",
      "metadata": {
        "id": "XnJ5ttSbDujN"
      },
      "source": [
        "#Entrenamiento"
      ]
    },
    {
      "cell_type": "code",
      "metadata": {
        "id": "F1IIfEUyr6d3"
      },
      "source": [
        "#Entrenando \r\n",
        "!./darknet detector train /content/DATASET5/trainer.data /content/yolov3.cfg  /content/drive/MyDrive/MLPD/Proyecto/RESULTADOS/App_ban_avo_car_whi_D5/yolov3_best_original.weights -clear -dont_show -ext_output -map | tee log.txt"
      ],
      "execution_count": null,
      "outputs": []
    },
    {
      "cell_type": "markdown",
      "metadata": {
        "id": "TS9vdVjCDx0Z"
      },
      "source": [
        "#Validacion y pruebas"
      ]
    },
    {
      "cell_type": "code",
      "metadata": {
        "id": "23PujgJJ6yEP"
      },
      "source": [
        "#Obteniendo los pesos del modelo sin pesos iniciales, reentrenado\r\n",
        "!wget https://github.com/okabeazn/yolov3_mldp/raw/master/RESULTADOS/App_ban_avo_car_whi_D5_SPI/yolov3_best.weights"
      ],
      "execution_count": null,
      "outputs": []
    },
    {
      "cell_type": "code",
      "metadata": {
        "id": "BJfppWlwjnvp"
      },
      "source": [
        "#preparando datos para realizar el MAP al modelo que se entreno\r\n",
        "!cp /content/DATASET5/valid.txt /content/darknet/data/\r\n",
        "!mv /content/darknet/data/valid.txt /content/darknet/data/train.txt"
      ],
      "execution_count": null,
      "outputs": []
    },
    {
      "cell_type": "code",
      "metadata": {
        "id": "gzhrW1AtmrTb"
      },
      "source": [
        "!./darknet detector map /content/DATASET5/trainer.data \"/content/yolov3.cfg\" yolov3_best.weights -dont_show -ext_output < /content/DATASET5/valid.txt > result.txt"
      ],
      "execution_count": null,
      "outputs": []
    },
    {
      "cell_type": "code",
      "metadata": {
        "id": "BbWBI_ki8yUp"
      },
      "source": [
        "!wget https://github.com/okabeazn/yolov3_mldp/raw/master/test_img.zip -P /content/\r\n",
        "!mkdir /content/img_test\r\n",
        "!unzip  /content/test_img.zip -d /content/img_test"
      ],
      "execution_count": null,
      "outputs": []
    },
    {
      "cell_type": "code",
      "metadata": {
        "id": "AyskrRjUGXY8"
      },
      "source": [
        "#realizando predicciones sobre archivos que se encuentran en Gdrive\n",
        "\n",
        "test_path = \"/content/img_test\"\n",
        "\n",
        "test_dir_list = os.listdir(test_path)\n",
        "\n",
        "img_test_list=[]\n",
        "num_images=0\n",
        "\n",
        "for image_file in test_dir_list:\n",
        "  A='/content/img_test/'+image_file\n",
        "  !./darknet detector test \"/content/DATASET5/trainer.data\" \"/content/yolov3.cfg\" /content/drive/MyDrive/MLPD/Proyecto/RESULTADOS/App_ban_avo_car_whi_D5_SPI/yolov3_best.weights  $A -ext_output\n",
        "\n",
        "  img = cv2.imread('predictions.jpg')\n",
        "  img=cv2.cvtColor(img, cv2.COLOR_BGR2RGB)\n",
        "  plt.imshow(img)\n",
        "  plt.show()\n",
        "  print(A)\n"
      ],
      "execution_count": null,
      "outputs": []
    },
    {
      "cell_type": "code",
      "metadata": {
        "id": "h3m7Cj-V8ALa"
      },
      "source": [
        "#Predecir sobre video\r\n",
        "\r\n",
        "archivo=\"video.mp4\"\r\n",
        "!./darknet detector demo \"/content/DATASET5/trainer.data\" \"/content/yolov3.cfg\" /content/drive/MyDrive/MLPD/Proyecto/RESULTADOS/App_ban_avo_car_whi_D5/yolov3_best_original.weights -thresh 0.20 -dont_show \"/content/drive/MyDrive/MLPD/Proyecto/TEST_VIDEO/2.mp4\" -out_filename $name\r\n",
        "files.download($name) "
      ],
      "execution_count": null,
      "outputs": []
    }
  ]
}